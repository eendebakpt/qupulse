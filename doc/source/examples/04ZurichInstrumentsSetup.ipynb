{
 "cells": [
  {
   "cell_type": "markdown",
   "id": "7e31fbc9f47a77ce",
   "metadata": {
    "collapsed": false
   },
   "source": [
    "# Zurich Instruments Hardware Setup\n",
    "\n",
    "This notebook shows an exemplary use of qupulse with a ZI HDAWG and MFLI. The drivers for these instruments are kept in external packages to facilitate easy driver customization. Depending on your python version and hardware version you either need `qupulse-hdawg-legacy` or `qupulse-hdawg` for the HDAWG and `qupulse-mfli` for the MFLI.\n",
    "\n",
    "## Connections and wiring\n",
    "\n",
    "The example here assumes a very nonsensical wiring that does not require anything else besides an HDAWG, and MFLI and three cables/adapters to connect SMB to BNC ports.\n",
    "\n",
    "## Hardware Setup\n",
    "\n",
    "The hardware setup class provides a layer to map output channels to an arbitrary number of physical channels.\n",
    "It also provides a mapping of measurement windows to specific dac instruments"
   ]
  },
  {
   "cell_type": "code",
   "execution_count": null,
   "id": "6432f1ccf75c7d58",
   "metadata": {
    "collapsed": false
   },
   "outputs": [],
   "source": [
    "from qupulse.hardware.setup import HardwareSetup\n",
    "\n",
    "hw_setup = HardwareSetup()"
   ]
  },
  {
   "cell_type": "code",
   "execution_count": null,
   "id": "initial_id",
   "metadata": {
    "collapsed": true
   },
   "outputs": [],
   "source": [
    "# This abstracts over possibly installed hdawg drivers\n",
    "from qupulse.hardware.awgs.zihdawg import HDAWGRepresentation\n",
    "\n",
    "awg_serial = 'DEVXXXX'\n",
    "assert awg_serial != 'DEVXXXX', \"Please enter the serial of a connected HDAWG\"\n",
    "\n",
    "hdawg = HDAWGRepresentation(awg_serial)"
   ]
  },
  {
   "cell_type": "markdown",
   "id": "4f15ba19d0961dbb",
   "metadata": {
    "collapsed": false
   },
   "source": [
    "### Channel groupings\n",
    "\n",
    "The `AWG` class abstracts over a set of dependently programmable channels. The HDAWG supports multiple channel groupings which decouples individual channel groups. The most robust setting for qupulse is to use the `1x8` channel grouping which executes the same sequencing program on all channels and only differs in the waveform data that is sequenced. This results in a single channel tuple/`AWG` object which represents all eight channels.\n",
    "\n"
   ]
  },
  {
   "cell_type": "code",
   "execution_count": null,
   "id": "eb9a838c161c244d",
   "metadata": {
    "collapsed": false
   },
   "outputs": [],
   "source": [
    "from qupulse.hardware.awgs.zihdawg import HDAWGChannelGrouping\n",
    "from qupulse.hardware.setup import PlaybackChannel, MarkerChannel\n",
    "\n",
    "hdawg.channel_grouping = HDAWGChannelGrouping.CHAN_GROUP_1x8\n",
    "awg, = hdawg.channel_tuples\n",
    "\n",
    "# here we assume plunger one and two are connected to the two first channels of the AWG\n",
    "# It is considered best practice to use such names that relate to the connected sample gates\n",
    "hw_setup.set_channel('P1', PlaybackChannel(awg, 0))\n",
    "hw_setup.set_channel('P2', PlaybackChannel(awg, 1))\n",
    "\n",
    "# We connect the trigger to the marker output of the first channel\n",
    "hw_setup.set_channel('Trig', MarkerChannel(awg, 0))\n",
    "\n",
    "# We can assign the same channel to multiple identifiers. Here we just assign all channels to a hardware name\n",
    "for channel_idx, channel_letter in enumerate('ABCDEFGH'):\n",
    "    channel_name = f\"{hdawg.serial}_{channel_letter}\"\n",
    "    hw_setup.set_channel(channel_name, PlaybackChannel(awg, channel_idx), allow_multiple_registration=True)\n",
    "\n",
    "# We can also assign multiple channels to the same identifier\n",
    "hw_setup.set_channel(f\"{hdawg.serial}_ALL\", [PlaybackChannel(awg, idx) for idx in range(8)])"
   ]
  },
  {
   "cell_type": "markdown",
   "id": "10ada657dd098fc7",
   "metadata": {
    "collapsed": false
   },
   "source": [
    "## MFLI\n",
    "\n",
    "Next we will connect the MFLI."
   ]
  },
  {
   "cell_type": "code",
   "execution_count": null,
   "id": "99e3edfcdf4ff697",
   "metadata": {
    "collapsed": false
   },
   "outputs": [],
   "source": [
    "from qupulse_mfli.mfli import MFLIDAQ, postprocessing_average_within_windows\n",
    "\n",
    "mfli_serial = 'DEVXXXX'\n",
    "assert mfli_serial != 'DEVXXXX', \"Please enter the serial of a connected MFLI\"\n",
    "\n",
    "mfli = MFLIDAQ.connect_to(mfli_serial)"
   ]
  },
  {
   "cell_type": "markdown",
   "id": "30b5fb5fec55af39",
   "metadata": {
    "collapsed": false
   },
   "source": []
  },
  {
   "cell_type": "markdown",
   "id": "bf2a9ed85290c479",
   "metadata": {
    "collapsed": false
   },
   "source": [
    "So"
   ]
  },
  {
   "cell_type": "code",
   "execution_count": null,
   "id": "6afb0d40c704a02",
   "metadata": {
    "collapsed": false
   },
   "outputs": [],
   "source": [
    "from qupulse.hardware.setup import MeasurementMask\n",
    "\n",
    "hw_setup.set_measurement('SET1', MeasurementMask(mfli, 'AverageR'))\n",
    "hw_setup.set_measurement('SET2', MeasurementMask(mfli, 'AverageAux1'))"
   ]
  },
  {
   "cell_type": "code",
   "execution_count": null,
   "id": "c943fb4d",
   "metadata": {},
   "outputs": [],
   "source": [
    "# linking the measurement mask names to physical input channels\n",
    "mfli.register_measurement_channel(program_name=None, channel_path=\"demods/0/sample.R\", window_name=\"AverageR\")\n",
    "mfli.register_measurement_channel(program_name=None, channel_path=\"auxins/0/sample.AuxIn0.avg\", window_name=\"AverageAux1\")\n",
    "\n",
    "'''\n",
    "\n",
    "The other inputs can be addressed via strings as the following:\n",
    "{\n",
    "    \"R\": [\"demods/0/sample.R\"],\n",
    "    \"X\": [\"demods/0/sample.X\"],\n",
    "    \"Y\": [\"demods/0/sample.Y\"],\n",
    "    \"A\": [\"auxins/0/sample.AuxIn0.avg\"],\n",
    "    \"many\": [\"demods/0/sample.R\", \"auxins/0/sample.AuxIn0.avg\", \"demods/0/sample.X\", \"demods/0/sample.Y\"]\n",
    "}\n",
    "\n",
    "where the keys of the dict are the values for the window_name, and the values of the dict are the channel_path inputs. Note that these can also be lists to record multiple channels under one name. I.e. for IQ demodulation.\n",
    "\n",
    "'''"
   ]
  },
  {
   "cell_type": "code",
   "execution_count": null,
   "id": "51401e51",
   "metadata": {},
   "outputs": [],
   "source": [
    "# configuring the driver to average all datapoint for each window.\n",
    "mfli.register_operations(None, postprocessing_average_within_windows)\n",
    "\n",
    "# one can also register the ```qupulse_mfli.mfli.postprocessing_crop_windows``` post processing function to return the data that was recorded for within window without averaging.\n",
    "# Or one could register ```None``` to return the raw data recorded without considering the windows."
   ]
  },
  {
   "cell_type": "code",
   "execution_count": null,
   "id": "417c4976",
   "metadata": {},
   "outputs": [],
   "source": [
    "# registering the trigger for the program named \"run_for_ever\". Which armes the lockin once, and recordes for each observed trigger on AuxIn1.\n",
    "mfli.register_trigger_settings(program_name=\"run_for_ever\",\n",
    "                                   trigger_input=f\"demods/0/sample.AuxIn1\", # here AuxInN referese to the printer label N+1\n",
    "                                   edge=\"rising\",\n",
    "                                   trigger_count=3, # this defines the number of triggers to capture in one measurement (i.e. rows). E.g. one measurement contains 3 Trigger events, which might be somehting one could do when crafting the programs carefully.\n",
    "                                   level=.5, # this sets the trigger level\n",
    "                                   measurement_count=np.inf, # this defined the number of rounds that are to be measured (e.g. how often the \"single\" button should be pressed). E.g. after one arm call, i would like to perform np.inf measurements\n",
    "                                   other_settings={\"holdoff/time\": 1e-3} # this sets the duration for which new triggers are ignored\n",
    "                                   )\n",
    "# the aquesition can be ended via mfli.stop_acquisition()\n",
    "\n",
    "# registering trigger settings for a standard configuration\n",
    "# The measurement is perfomed once after one trigger on TrigIn1 is observed.\n",
    "mfli.register_trigger_settings(program_name=None,\n",
    "                                   trigger_input=f\"demods/0/sample.TrigIn1\", # here TrigInN referrers to the printer label N\n",
    "                                   edge=\"rising\",\n",
    "                                   trigger_count=1,\n",
    "                                   level=.5,\n",
    "                                   measurement_count=1,\n",
    "                                   other_settings={\"holdoff/time\": 1e-3}\n",
    "                                   ) "
   ]
  },
  {
   "cell_type": "markdown",
   "id": "a7c5b77d781b5ab2",
   "metadata": {
    "collapsed": false
   },
   "source": [
    "from\n",
    "\n",
    "We define the pulse template in terms of the potentials of quantum dot one and two `Q1` and `Q2` and provide a linear transformation that maps them to the output voltages `P1` and `P2`."
   ]
  },
  {
   "cell_type": "code",
   "execution_count": null,
   "id": "27610ca4eb6cda25",
   "metadata": {
    "collapsed": false
   },
   "outputs": [],
   "source": [
    "from qupulse.pulses import *\n",
    "import numpy as np\n",
    "from qupulse.program.transformation import LinearTransformation\n",
    "\n",
    "pt = (ConstantPT(2**20, {\n",
    "    'Q1': '-0.1 + x_i * 0.02',\n",
    "    'Q2': '-0.2 + y_i * 0.05'})\n",
    "      .with_iteration('x_i', 'N_x')\n",
    "      .with_iteration('y_i', 'N_y'))\n",
    "\n",
    "trafo = LinearTransformation(np.array([[1., -.1], [-.09, 1.]]),\n",
    "                             ('Q1', 'Q2'),\n",
    "                             ('P1', 'P2'))\n",
    "\n",
    "program = pt.create_program(parameters={'N_x': 50, 'N_y': 30}, global_transformation=trafo)"
   ]
  },
  {
   "cell_type": "code",
   "execution_count": null,
   "id": "346dabd84ea976fd",
   "metadata": {
    "collapsed": false
   },
   "outputs": [],
   "source": [
    "hw_setup.register_program('csd', program, awg.run_current_program)"
   ]
  },
  {
   "cell_type": "code",
   "execution_count": null,
   "id": "832c501c9082dc5d",
   "metadata": {
    "collapsed": false
   },
   "outputs": [],
   "source": [
    "hw_setup.arm_program('csd')"
   ]
  },
  {
   "cell_type": "code",
   "execution_count": null,
   "id": "954f4e09664d073f",
   "metadata": {
    "collapsed": false
   },
   "outputs": [],
   "source": [
    "hw_setup.run_program('csd')"
   ]
  },
  {
   "cell_type": "markdown",
   "id": "e517992b6a35fc07",
   "metadata": {
    "collapsed": false
   },
   "source": [
    "The data extration is not standardized at the time of writing this example because it heavily depends on your data processing pipeline how the data is handled and where it shall go. qupulse has no functionality to associate a measured value with the value of some parameter that might have been varied during the measurement."
   ]
  },
  {
   "cell_type": "code",
   "execution_count": null,
   "id": "636ea90347e59fe5",
   "metadata": {
    "collapsed": false
   },
   "outputs": [],
   "source": [
    "# receaving the recorded data from the MFLI\n",
    "\n",
    "data = mfli.measure_program(wait=False) # wait=True would wait until the aquesition is finished.\n"
   ]
  },
  {
   "cell_type": "markdown",
   "id": "90137bb3a5dd2f22",
   "metadata": {
    "collapsed": false
   },
   "source": [
    "The recorded data is sliced to the measurement windows in the default configuration. Thus ```my_lockin.measure_program``` returns a list (number of measurements) of dicts (the qupulse channels), of dicts (the lockin channels), of lists (the observed trigger), of lists of xarray DataArrays (each DataArray containing the data sliced for one window) or numpy arrays (containing the data resulting from averaging over the windows). I.e. ```returned_data[<i_measurement>][<qupulse channel>][<lockin channel>][<i_triggerevent>]``` leads to ether the list of DataArrays or to a numpy array."
   ]
  },
  {
   "cell_type": "markdown",
   "id": "d88b11db",
   "metadata": {},
   "source": []
  }
 ],
 "metadata": {
  "kernelspec": {
   "display_name": "Python 3",
   "language": "python",
   "name": "python3"
  },
  "language_info": {
   "codemirror_mode": {
    "name": "ipython",
    "version": 2
   },
   "file_extension": ".py",
   "mimetype": "text/x-python",
   "name": "python",
   "nbconvert_exporter": "python",
   "pygments_lexer": "ipython2",
   "version": "2.7.6"
  }
 },
 "nbformat": 4,
 "nbformat_minor": 5
}
