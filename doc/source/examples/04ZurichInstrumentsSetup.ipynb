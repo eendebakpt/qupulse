{
 "cells": [
  {
   "cell_type": "markdown",
   "source": [
    "# Zurich Instruments Hardware Setup\n",
    "\n",
    "This notebook shows an exemplary use of qupulse with a ZI HDAWG and MFLI. The drivers for these instruments are kept in external packages to facilitate easy driver customization. Depending on your python version and hardware version you either need `qupulse-hdawg-legacy` or `qupulse-hdawg` for the HDAWG and `qupulse-mfli` for the MFLI.\n",
    "\n",
    "## Hardware Setup\n",
    "\n",
    "The hardware setup class provides a layer to map output channels to an arbitrary number of physical channels.\n",
    "It also provides a mapping of measurement windows to specific dac instruments"
   ],
   "metadata": {
    "collapsed": false
   },
   "id": "7e31fbc9f47a77ce"
  },
  {
   "cell_type": "code",
   "outputs": [],
   "source": [
    "from qupulse.hardware.setup import HardwareSetup\n",
    "\n",
    "hw_setup = HardwareSetup()"
   ],
   "metadata": {
    "collapsed": false
   },
   "id": "6432f1ccf75c7d58",
   "execution_count": null
  },
  {
   "cell_type": "code",
   "outputs": [],
   "source": [
    "# This abstracts over possibly installed hdawg drivers\n",
    "from qupulse.hardware.awgs.zihdawg import HDAWGRepresentation\n",
    "\n",
    "awg_serial = 'DEVXXXX'\n",
    "assert awg_serial != 'DEVXXXX', \"Please enter the serial of a connected HDAWG\"\n",
    "\n",
    "hdawg = HDAWGRepresentation(awg_serial)"
   ],
   "metadata": {
    "collapsed": true
   },
   "id": "initial_id",
   "execution_count": null
  },
  {
   "cell_type": "markdown",
   "source": [
    "### Channel groupings\n",
    "\n",
    "The `AWG` class abstracts over a set of dependently programmable channels. The HDAWG supports multiple channel groupings which decouples individual channel groups. The most robust setting for qupulse is to use the `1x8` channel grouping which executes the same sequencing program on all channels and only differs in the waveform data that is sequenced. This results in a single channel tuple/`AWG` object which represents all eight channels.\n",
    "\n"
   ],
   "metadata": {
    "collapsed": false
   },
   "id": "4f15ba19d0961dbb"
  },
  {
   "cell_type": "code",
   "outputs": [],
   "source": [
    "from qupulse.hardware.awgs.zihdawg import HDAWGChannelGrouping\n",
    "from qupulse.hardware.setup import PlaybackChannel, MarkerChannel\n",
    "\n",
    "hdawg.channel_grouping = HDAWGChannelGrouping.CHAN_GROUP_1x8\n",
    "awg, = hdawg.channel_tuples\n",
    "\n",
    "# here we assume plunger one and two are connected to the two first channels of the AWG\n",
    "hw_setup.set_channel('P1', PlaybackChannel(awg, 0))\n",
    "hw_setup.set_channel('P2', PlaybackChannel(awg, 1))\n",
    "\n",
    "# We connect the trigger to the marker output of the first channel\n",
    "hw_setup.set_channel('Trig', MarkerChannel(awg, 0))\n",
    "\n",
    "\n",
    "for "
   ],
   "metadata": {
    "collapsed": false
   },
   "id": "eb9a838c161c244d",
   "execution_count": null
  },
  {
   "cell_type": "code",
   "outputs": [],
   "source": [
    "from qupulse_mfli.mfli import MFLIDAQ\n",
    "\n",
    "mfli_serial = 'DEVXXXX'\n",
    "assert mfli_serial != 'DEVXXXX', \"Please enter the serial of a connected HDAWG\"\n",
    "\n",
    "mfli = MFLIDAQ.connect_to(mfli_serial)"
   ],
   "metadata": {
    "collapsed": false
   },
   "id": "99e3edfcdf4ff697"
  }
 ],
 "metadata": {
  "kernelspec": {
   "display_name": "Python 3",
   "language": "python",
   "name": "python3"
  },
  "language_info": {
   "codemirror_mode": {
    "name": "ipython",
    "version": 2
   },
   "file_extension": ".py",
   "mimetype": "text/x-python",
   "name": "python",
   "nbconvert_exporter": "python",
   "pygments_lexer": "ipython2",
   "version": "2.7.6"
  }
 },
 "nbformat": 4,
 "nbformat_minor": 5
}
