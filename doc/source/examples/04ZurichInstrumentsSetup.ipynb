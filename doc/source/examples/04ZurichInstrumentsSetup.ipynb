{
 "cells": [
  {
   "cell_type": "markdown",
   "source": [
    "# Zurich Instruments Hardware Setup\n",
    "\n",
    "This notebook shows an exemplary use of qupulse with a ZI HDAWG and MFLI. The drivers for these instruments are kept in external packages to facilitate easy driver customization. Depending on your python version and hardware version you either need `qupulse-hdawg-legacy` or `qupulse-hdawg` for the HDAWG and `qupulse-mfli` for the MFLI.\n",
    "\n",
    "## Connections and wiring\n",
    "\n",
    "The example here assumes a very nonsensical wiring that does not require anything else besides an HDAWG, and MFLI and three cables/adapters to connect SMB to BNC ports.\n",
    "\n",
    "## Hardware Setup\n",
    "\n",
    "The hardware setup class provides a layer to map output channels to an arbitrary number of physical channels.\n",
    "It also provides a mapping of measurement windows to specific dac instruments"
   ],
   "metadata": {
    "collapsed": false
   },
   "id": "7e31fbc9f47a77ce"
  },
  {
   "cell_type": "code",
   "outputs": [],
   "source": [
    "from qupulse.hardware.setup import HardwareSetup\n",
    "\n",
    "hw_setup = HardwareSetup()"
   ],
   "metadata": {
    "collapsed": false
   },
   "id": "6432f1ccf75c7d58",
   "execution_count": null
  },
  {
   "cell_type": "code",
   "outputs": [],
   "source": [
    "# This abstracts over possibly installed hdawg drivers\n",
    "from qupulse.hardware.awgs.zihdawg import HDAWGRepresentation\n",
    "\n",
    "awg_serial = 'DEVXXXX'\n",
    "assert awg_serial != 'DEVXXXX', \"Please enter the serial of a connected HDAWG\"\n",
    "\n",
    "hdawg = HDAWGRepresentation(awg_serial)"
   ],
   "metadata": {
    "collapsed": true
   },
   "id": "initial_id",
   "execution_count": null
  },
  {
   "cell_type": "markdown",
   "source": [
    "### Channel groupings\n",
    "\n",
    "The `AWG` class abstracts over a set of dependently programmable channels. The HDAWG supports multiple channel groupings which decouples individual channel groups. The most robust setting for qupulse is to use the `1x8` channel grouping which executes the same sequencing program on all channels and only differs in the waveform data that is sequenced. This results in a single channel tuple/`AWG` object which represents all eight channels.\n",
    "\n"
   ],
   "metadata": {
    "collapsed": false
   },
   "id": "4f15ba19d0961dbb"
  },
  {
   "cell_type": "code",
   "outputs": [],
   "source": [
    "from qupulse.hardware.awgs.zihdawg import HDAWGChannelGrouping\n",
    "from qupulse.hardware.setup import PlaybackChannel, MarkerChannel\n",
    "\n",
    "hdawg.channel_grouping = HDAWGChannelGrouping.CHAN_GROUP_1x8\n",
    "awg, = hdawg.channel_tuples\n",
    "\n",
    "# here we assume plunger one and two are connected to the two first channels of the AWG\n",
    "# It is considered best practice to use such names that relate to the connected sample gates\n",
    "hw_setup.set_channel('P1', PlaybackChannel(awg, 0))\n",
    "hw_setup.set_channel('P2', PlaybackChannel(awg, 1))\n",
    "\n",
    "# We connect the trigger to the marker output of the first channel\n",
    "hw_setup.set_channel('Trig', MarkerChannel(awg, 0))\n",
    "\n",
    "# We can assign the same channel to multiple identifiers. Here we just assign all channels to a hardware name\n",
    "for channel_idx, channel_letter in enumerate('ABCDEFGH'):\n",
    "    channel_name = f\"{hdawg.serial}_{channel_letter}\"\n",
    "    hw_setup.set_channel(channel_name, PlaybackChannel(awg, channel_idx), allow_multiple_registration=True)\n",
    "\n",
    "# We can also assign multiple channels to the same identifier\n",
    "hw_setup.set_channel(f\"{hdawg.serial}_ALL\", [PlaybackChannel(awg, idx) for idx in range(8)])"
   ],
   "metadata": {
    "collapsed": false
   },
   "id": "eb9a838c161c244d",
   "execution_count": null
  },
  {
   "cell_type": "markdown",
   "source": [
    "## MFLI\n",
    "\n",
    "Next we will connect the MFLI."
   ],
   "metadata": {
    "collapsed": false
   },
   "id": "10ada657dd098fc7"
  },
  {
   "cell_type": "code",
   "outputs": [],
   "source": [
    "from qupulse_mfli.mfli import MFLIDAQ\n",
    "\n",
    "mfli_serial = 'DEVXXXX'\n",
    "assert mfli_serial != 'DEVXXXX', \"Please enter the serial of a connected MFLI\"\n",
    "\n",
    "mfli = MFLIDAQ.connect_to(mfli_serial)"
   ],
   "metadata": {
    "collapsed": false
   },
   "id": "99e3edfcdf4ff697"
  },
  {
   "cell_type": "markdown",
   "source": [],
   "metadata": {
    "collapsed": false
   },
   "id": "30b5fb5fec55af39"
  },
  {
   "cell_type": "markdown",
   "source": [
    "So"
   ],
   "metadata": {
    "collapsed": false
   },
   "id": "bf2a9ed85290c479"
  },
  {
   "cell_type": "code",
   "outputs": [],
   "source": [
    "from qupulse.hardware.setup import MeasurementMask\n",
    "\n",
    "hw_setup.set_measurement('SET1', MeasurementMask(mfli, 'AverageR'))\n",
    "hw_setup.set_measurement('SET2', MeasurementMask(mfli, 'AverageAux1'))\n",
    "\n",
    "raise NotImplementedError(\"TODO: Implement the rest of the MFLI operations and so on\")"
   ],
   "metadata": {
    "collapsed": false
   },
   "id": "6afb0d40c704a02"
  },
  {
   "cell_type": "markdown",
   "source": [
    "from\n",
    "\n",
    "We define the pulse template in terms of the potentials of quantum dot one and two `Q1` and `Q2` and provide a linear transformation that maps them to the output voltages `P1` and `P2`."
   ],
   "metadata": {
    "collapsed": false
   },
   "id": "a7c5b77d781b5ab2"
  },
  {
   "cell_type": "code",
   "outputs": [],
   "source": [
    "from qupulse.pulses import *\n",
    "import numpy as np\n",
    "from qupulse.program.transformation import LinearTransformation\n",
    "\n",
    "pt = (ConstantPT(2**20, {\n",
    "    'Q1': '-0.1 + x_i * 0.02',\n",
    "    'Q2': '-0.2 + y_i * 0.05'})\n",
    "      .with_iteration('x_i', 'N_x')\n",
    "      .with_iteration('y_i', 'N_y'))\n",
    "\n",
    "trafo = LinearTransformation(np.array([[1., -.1], [-.09, 1.]]),\n",
    "                             ('Q1', 'Q2'),\n",
    "                             ('P1', 'P2'))\n",
    "\n",
    "program = pt.create_program(parameters={'N_x': 50, 'N_y': 30}, global_transformation=trafo)"
   ],
   "metadata": {
    "collapsed": false
   },
   "id": "27610ca4eb6cda25",
   "execution_count": null
  },
  {
   "cell_type": "code",
   "outputs": [],
   "source": [
    "hw_setup.register_program('csd', program, awg.run_current_program)"
   ],
   "metadata": {
    "collapsed": false
   },
   "id": "346dabd84ea976fd",
   "execution_count": null
  },
  {
   "cell_type": "code",
   "outputs": [],
   "source": [
    "hw_setup.arm_program('csd')"
   ],
   "metadata": {
    "collapsed": false
   },
   "id": "832c501c9082dc5d"
  },
  {
   "cell_type": "code",
   "outputs": [],
   "source": [
    "hw_setup.run_program('csd')"
   ],
   "metadata": {
    "collapsed": false
   },
   "id": "954f4e09664d073f"
  },
  {
   "cell_type": "markdown",
   "source": [
    "The data extration is not standardized at the time of writing this example because it heavily depends on your data processing pipeline how the data is handled and where it shall go. qupulse has no functionality to associate a measured value with the value of some parameter that might have been varied during the measurement."
   ],
   "metadata": {
    "collapsed": false
   },
   "id": "e517992b6a35fc07"
  },
  {
   "cell_type": "code",
   "outputs": [],
   "source": [],
   "metadata": {
    "collapsed": false
   },
   "id": "636ea90347e59fe5",
   "execution_count": null
  },
  {
   "cell_type": "code",
   "outputs": [],
   "source": [],
   "metadata": {
    "collapsed": false
   },
   "id": "90137bb3a5dd2f22"
  }
 ],
 "metadata": {
  "kernelspec": {
   "display_name": "Python 3",
   "language": "python",
   "name": "python3"
  },
  "language_info": {
   "codemirror_mode": {
    "name": "ipython",
    "version": 2
   },
   "file_extension": ".py",
   "mimetype": "text/x-python",
   "name": "python",
   "nbconvert_exporter": "python",
   "pygments_lexer": "ipython2",
   "version": "2.7.6"
  }
 },
 "nbformat": 4,
 "nbformat_minor": 5
}
